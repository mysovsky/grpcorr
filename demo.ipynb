{
 "cells": [
  {
   "cell_type": "markdown",
   "id": "ccdc5ebb",
   "metadata": {},
   "source": [
    "# ReGroup Demo\n",
    "\n",
    "Welcome to ReGroup demo Jupyter presentation. This demo consists of two parts which can be run separately. \n",
    "\n",
    "Part I concerns symmetry determination, correction and symmetrization of some points in n-dimensional space. Presumably those points can be seen as  vertices of a distorted polytope.\n",
    "\n",
    "Part II allows to find and correct molecular symmetry and symmetrize a molecule; Part II uses nglview to visualize molecule and symmetry.\n",
    "\n",
    "# Part I. Finding & correcting the symmetry of a distorted polytope"
   ]
  },
  {
   "cell_type": "markdown",
   "id": "c260fe0f",
   "metadata": {},
   "source": [
    "## 1. Select polytope type:\n",
    "Run the code below to see selection widget"
   ]
  },
  {
   "cell_type": "code",
   "execution_count": null,
   "id": "6c72743d",
   "metadata": {},
   "outputs": [],
   "source": [
    "import ipywidgets as wdg\n",
    "import numpy as np\n",
    "from IPython.display import display, clear_output, Markdown\n",
    "import polytope as ptp\n",
    "from math import sqrt\n",
    "from symmfinder import symmetry_finder, inclusive_closure\n",
    "from grpcorr import multab_group_correction"
   ]
  },
  {
   "cell_type": "code",
   "execution_count": null,
   "id": "d856a5c1",
   "metadata": {},
   "outputs": [],
   "source": [
    "\n",
    "pchoice = wdg.RadioButtons( options=[\"hypercube\",\"hypercube dual polytope\",\"simplex\",\n",
    "                                    \"dodecahedron (3D)\",\"icositetrachoron (4D)\", \"hexacosichoron (4D)\"], \n",
    "                           description = \"Polytope\")\n",
    "dchoice = wdg.IntSlider(min=1, max=7, disabled=False, value = 1, description = 'Dimension')\n",
    "\n",
    "def dchoice_update(*args):\n",
    "    off = False\n",
    "    if pchoice.index == 3:\n",
    "        dchoice.value=3 \n",
    "        dchoice.disabled = True\n",
    "    elif pchoice.index in [4,5]:\n",
    "        dchoice.value=4\n",
    "        dchoice.disabled = True\n",
    "    else:\n",
    "        dchoice.disabled = False\n",
    "\n",
    "def print_ptope(x,y):\n",
    "    print(\"You selected: \",x,\", D = \", y)\n",
    "        \n",
    "pchoice.observe(dchoice_update,'index')\n",
    "        \n",
    "wdg.interactive(print_ptope,x=pchoice,y=dchoice)"
   ]
  },
  {
   "cell_type": "markdown",
   "id": "2144428f",
   "metadata": {},
   "source": [
    "## 2. Enter polytope radius:\n",
    "Run the code below to see the input widget, make sure you did not run the code above after selection of polytope type, otherwise select it again.\n",
    "\n",
    "By polytope radius we mean the distance between its center and vertices."
   ]
  },
  {
   "cell_type": "code",
   "execution_count": null,
   "id": "00b4a9f9",
   "metadata": {},
   "outputs": [],
   "source": [
    "rchoice = wdg.BoundedFloatText(description = \"Radius\", step = .05, min = 0e0)\n",
    "display(rchoice)"
   ]
  },
  {
   "cell_type": "markdown",
   "id": "9eb5cccd",
   "metadata": {},
   "source": [
    "## 3. Random distortion:\n",
    "Now you can randomly displace all the points along all coordinate axes. Provide the displacement amplitude in the widget below (run the code to see the widget)"
   ]
  },
  {
   "cell_type": "code",
   "execution_count": null,
   "id": "f8d8c133",
   "metadata": {},
   "outputs": [],
   "source": [
    "distort = wdg.Checkbox(description = \"Apply random distortion\", value = True)\n",
    "epschoice = wdg.BoundedFloatText(description = \"Amplitude\", step = .05, min = 0e0)\n",
    "\n",
    "def epschoice_update(*args):\n",
    "    epschoice.disabled = not distort.value\n",
    "    if not distort.value:\n",
    "        epschoice.value = 0e0\n",
    "    \n",
    "distort.observe(epschoice_update,\"value\")\n",
    "\n",
    "def print_distort(d,eps):\n",
    "    print(\"Random distortion: \",d,\"; amplitude = \", eps)\n",
    "    \n",
    "wdg.interactive(print_distort, d=distort, eps = epschoice)"
   ]
  },
  {
   "cell_type": "markdown",
   "id": "1dd440fe",
   "metadata": {},
   "source": [
    "## 4. Generate the points:\n",
    "In the widgets below you can do one of two possible things: 1) generate the points according the choice you made; 2) copy and paste your own points from other source"
   ]
  },
  {
   "cell_type": "code",
   "execution_count": null,
   "id": "b3aec319",
   "metadata": {},
   "outputs": [],
   "source": [
    "bcreate = wdg.Button(description = \"Create polytope\")\n",
    "bclear = wdg.Button(description = \"Clear points\")\n",
    "points_input = wdg.Textarea(layout=wdg.Layout(width='100%'))\n",
    "\n",
    "def create_polytope(*args):\n",
    "    i = pchoice.index\n",
    "    dim = dchoice.value\n",
    "    a = rchoice.value\n",
    "    eps = epschoice.value\n",
    "    if i==0:\n",
    "        points = ptp.hypercube(2*a/sqrt(dim),dim)\n",
    "    elif i==1:\n",
    "        points = ptp.hypercube_dual(a,dim)\n",
    "    elif i==2:\n",
    "        points = ptp.simplex(a,dim)\n",
    "    elif i==3:\n",
    "        points = ptp.dodecahedron(a)\n",
    "    elif i==4:\n",
    "        points = ptp.icositetrachoron(a)\n",
    "    elif i==5:\n",
    "        points = ptp.hexacosichoron(a)\n",
    "    else:\n",
    "        pass\n",
    "    if distort.value:\n",
    "        ptp.random_distortion(points,eps)\n",
    "    points_input.value = '\\n'.join([('{:10.6f}'*len(p)).format(*p) for p in points])\n",
    "    \n",
    "def clear_points(*args):\n",
    "    points_input.value = \"\"\n",
    "    \n",
    "bcreate.on_click(create_polytope)\n",
    "bclear.on_click(clear_points)\n",
    "display(wdg.HBox([bcreate,bclear]))\n",
    "display(Markdown(\"## 5. Use generated points or (alternatively) copy&paste them here \\\n",
    "\\nFormat: n columns, space separated, where n is the space dimension\"))\n",
    "display(points_input)"
   ]
  },
  {
   "cell_type": "markdown",
   "id": "fbbaf2b7",
   "metadata": {},
   "source": [
    "## 6. Select epsilon (tolerance) value for approximate symmetry operations"
   ]
  },
  {
   "cell_type": "code",
   "execution_count": null,
   "id": "a32e4251",
   "metadata": {},
   "outputs": [],
   "source": [
    "eps1choice = wdg.BoundedFloatText(description = \"Tolerance\", step = .05, min = 0e0)\n",
    "display(eps1choice)"
   ]
  },
  {
   "cell_type": "markdown",
   "id": "f9ebacaf",
   "metadata": {},
   "source": [
    "## 7. Find approximate symmetry operations\n",
    "When points are created (step 5) and epsilon value is chosen, run the following step manually. It will find as many approximate symmetry operations as it can. The symmetry operations will be collected in the list G and corresponding points permutations - in the list P."
   ]
  },
  {
   "cell_type": "code",
   "execution_count": null,
   "id": "d2c9871b",
   "metadata": {},
   "outputs": [],
   "source": [
    "points = [np.array([float(s) for s in l.split()]) for l in points_input.value.split('\\n')]\n",
    "dim = dchoice.value\n",
    "eps = eps1choice.value\n",
    "print(dim,eps)\n",
    "P,G = symmetry_finder(points,dim,eps)"
   ]
  },
  {
   "cell_type": "markdown",
   "id": "55cd6571",
   "metadata": {},
   "source": [
    "## 8. Perform closure\n",
    "If the points were displaced from symmetric configuration, it is highly likely that symmetry finder was not able to find all symmetry operations. In this case the set of operations found now is not a group since it is not closed with respect to multiplication. The following code will recover missing operations and build group multiplication table.\n",
    "\n",
    "**Warning: if the group size exceeds 1000 this might be time and memory consuming**"
   ]
  },
  {
   "cell_type": "code",
   "execution_count": null,
   "id": "5fd5d386",
   "metadata": {},
   "outputs": [],
   "source": [
    "Multab = inclusive_closure(P,G)"
   ]
  },
  {
   "cell_type": "markdown",
   "id": "f40a2845",
   "metadata": {},
   "source": [
    "## 9. Multiplication table based group correction\n",
    "Now it is time to apply the group correction algorithm and turn approximate symmetry operation into exact ones"
   ]
  },
  {
   "cell_type": "code",
   "execution_count": null,
   "id": "f38b11d1",
   "metadata": {},
   "outputs": [],
   "source": [
    "multab_group_correction(G,Multab,eps=1e-10)"
   ]
  },
  {
   "cell_type": "markdown",
   "id": "8c7b209f",
   "metadata": {},
   "source": [
    "## 10. Results\n",
    "You can see the group matrices one by one (which may be not very meaningful for large group) or save the group as a list of numpy arrays to a file"
   ]
  },
  {
   "cell_type": "code",
   "execution_count": null,
   "id": "0dba245c",
   "metadata": {},
   "outputs": [],
   "source": [
    "def mtr_str(g):        \n",
    "    return '\\n'.join([(\"{:8.5f} \"*g.shape[1]).format(*g[i,:]) for i in range(g.shape[0])])\n",
    "        \n",
    "mchoice = wdg.IntSlider(min=0, max=len(G)-1, disabled=False, value = 0)                         \n",
    "ichoice = wdg.BoundedIntText(min=0, max=len(G)-1, disabled=False, value = 0, \n",
    "                             description = 'SymmOp#')\n",
    "mshow = wdg.Textarea(layout=wdg.Layout(width='100%',height='100%'))\n",
    "def mchoice_update(*args):\n",
    "    i = ichoice.value\n",
    "    mchoice.value = i\n",
    "    mshow.value=mtr_str(G[i])\n",
    "    \n",
    "def ichoice_update(*args):\n",
    "    i = mchoice.value\n",
    "    ichoice.value = i\n",
    "    mshow.value=mtr_str(G[i])\n",
    "    \n",
    "mchoice.observe(ichoice_update,'value')\n",
    "ichoice.observe(mchoice_update,'value')\n",
    "display(wdg.VBox([ichoice,mchoice]),mshow)\n"
   ]
  },
  {
   "cell_type": "markdown",
   "id": "30735d4a",
   "metadata": {},
   "source": [
    "## 11. Save the group\n",
    "Provide filename to save of leave it empty to output it below"
   ]
  },
  {
   "cell_type": "code",
   "execution_count": null,
   "id": "8eace2ca",
   "metadata": {},
   "outputs": [],
   "source": [
    "fname = wdg.Text(description = 'file to save:', value = '')\n",
    "bsave = wdg.Button(description = 'Save')\n",
    "\n",
    "def save_group(*args):\n",
    "    if fname.value == '':\n",
    "        print(G)\n",
    "    else:\n",
    "        f = open(fname.value)\n",
    "        print(G,file = f)\n",
    "        f.close()\n",
    "\n",
    "bsave.on_click(save_group)\n",
    "display(fname,bsave)"
   ]
  },
  {
   "cell_type": "markdown",
   "id": "3e9c696c",
   "metadata": {},
   "source": [
    "## 12. Symmetrize the points\n",
    "The points can be corrected back to symmetric configuration"
   ]
  },
  {
   "cell_type": "code",
   "execution_count": null,
   "id": "9181203d",
   "metadata": {},
   "outputs": [],
   "source": [
    "points1 = ptp.symmetrize_points(points,P,G)\n",
    "print('\\n'.join([('{:10.6f}'*len(p)).format(*p) for p in points1]))"
   ]
  },
  {
   "cell_type": "markdown",
   "id": "32930c5b",
   "metadata": {},
   "source": [
    "\n",
    "\n",
    "# Part II. Application to molecular symmetry "
   ]
  },
  {
   "cell_type": "code",
   "execution_count": null,
   "id": "8dff6559",
   "metadata": {},
   "outputs": [],
   "source": [
    "import nglview as ngl\n",
    "from ase import Atom, Atoms\n",
    "import ipywidgets as wdg\n",
    "import numpy as np\n",
    "from IPython.display import display, clear_output, Markdown\n",
    "import polytope as ptp\n",
    "from symmfinder import symmetry_finder, inclusive_closure\n",
    "from grpcorr import multab_group_correction"
   ]
  },
  {
   "cell_type": "markdown",
   "id": "d76f36d3",
   "metadata": {},
   "source": [
    "## 1. Read molecule from xyz file\n",
    "The xyz file format is simple:\n",
    "\n",
    "*A1 x1 y1 z1*\n",
    "\n",
    "*A2 x2 y2 z2*\n",
    "\n",
    "............\n",
    "\n",
    "*An xn yn zn*\n",
    "\n",
    "Here *Ai* is atomic symbol and *xi, yi, zi* are atomic coordinates. First two lines might also contain the number of atoms and some comment, however, it is not necessary. The limited number of ready-to-go examples includes \"examples/c20.xyz\", \"examples/ch4.xyz\", \"examples/c2h6.xyz\" and \"examples/sf6.xyz\"."
   ]
  },
  {
   "cell_type": "code",
   "execution_count": null,
   "id": "ebe7e42b",
   "metadata": {},
   "outputs": [],
   "source": [
    "fname = wdg.Text(description = 'xyz file:', value = 'examples/c20.xyz')\n",
    "bopen = wdg.Button(description = 'Open')\n",
    "mol_input = wdg.Textarea(layout=wdg.Layout(width='70%'))\n",
    "\n",
    "def open_xyz_file(*args):\n",
    "    f = open(fname.value)\n",
    "    mol_input.value = ''.join([l for l in f])\n",
    "    f.close()\n",
    "\n",
    "bopen.on_click(open_xyz_file)\n",
    "display(wdg.HBox([fname,bopen]),Markdown('##  2. Alternatively, copy & paste it here'),mol_input)"
   ]
  },
  {
   "cell_type": "markdown",
   "id": "8f77d9a3",
   "metadata": {},
   "source": [
    "## 3. Apply random distortion"
   ]
  },
  {
   "cell_type": "code",
   "execution_count": null,
   "id": "f3631c5d",
   "metadata": {},
   "outputs": [],
   "source": [
    "distort = wdg.Checkbox(description = \"Apply random distortion\", value = True)\n",
    "epschoice = wdg.BoundedFloatText(description = \"Amplitude\", step = .05, min = 0e0)\n",
    "\n",
    "def epschoice_update(*args):\n",
    "    epschoice.disabled = not distort.value\n",
    "    if not distort.value:\n",
    "        epschoice.value = 0e0\n",
    "    \n",
    "distort.observe(epschoice_update,\"value\")\n",
    "\n",
    "def print_distort(d,eps):\n",
    "    print(\"Random distortion: \",d,\"; amplitude = \", eps)\n",
    "    \n",
    "wdg.interactive(print_distort, d=distort, eps = epschoice)"
   ]
  },
  {
   "cell_type": "markdown",
   "id": "f52745c1",
   "metadata": {},
   "source": [
    "## 4. Read & visualize initial molecule\n",
    "Manually run the following code"
   ]
  },
  {
   "cell_type": "code",
   "execution_count": null,
   "id": "c4fbbf63",
   "metadata": {},
   "outputs": [],
   "source": [
    "lines=[line.split() for line in mol_input.value.split('\\n')]\n",
    "mol = {'atoms':[],'coord':[]}\n",
    "for l in lines:\n",
    "    if len(l)==4:\n",
    "        mol['atoms'].append(l[0])\n",
    "        mol['coord'].append(np.array([float(l[i]) for i in [1,2,3]]))\n",
    "        \n",
    "if distort.value:\n",
    "    ptp.random_distortion(mol['coord'],epschoice.value)\n",
    "\n",
    "ase_mol = Atoms([Atom(mol['atoms'][i], tuple(mol['coord'][i])) for i in range(len(mol['atoms']))])\n",
    "mol_view = ngl.show_ase(ase_mol)\n",
    "display(mol_view)"
   ]
  },
  {
   "cell_type": "markdown",
   "id": "430a05f5",
   "metadata": {},
   "source": [
    "## 5. Select epsilon (tolerance) value for approximate symmetry operations"
   ]
  },
  {
   "cell_type": "code",
   "execution_count": null,
   "id": "daa299c7",
   "metadata": {},
   "outputs": [],
   "source": [
    "eps1choice = wdg.BoundedFloatText(description = \"Tolerance\", step = .05, min = 0e0)\n",
    "display(eps1choice)"
   ]
  },
  {
   "cell_type": "markdown",
   "id": "0d8321db",
   "metadata": {},
   "source": [
    "## 6. Find approximate symmetry group"
   ]
  },
  {
   "cell_type": "code",
   "execution_count": null,
   "id": "135ec8d7",
   "metadata": {},
   "outputs": [],
   "source": [
    "eps = eps1choice.value\n",
    "P,G = symmetry_finder(mol['coord'],3,eps)\n",
    "Multab = inclusive_closure(P,G)\n",
    "\n",
    "def generate_arrows(G):\n",
    "    colors = {(2,False):[0,0,0], (3,False):[0,1,0], (4,False):[0,0,1], \n",
    "                (5,False):[1,0,0], (6,False):[1,1,0], (2,True):[1,1,1],\n",
    "                (4,True):[1,0,1],(6,True):[0, 1, 1]}\n",
    "    rmax = max([np.linalg.norm(r) for r in mol['coord'] ])\n",
    "    res = []\n",
    "    gdat = []\n",
    "    for g in G:\n",
    "        gdata = ptp.analyze_matrix3(g,eps/rmax)\n",
    "        gdat.append(gdata)\n",
    "        b = 1.3*rmax*gdata['axis']\n",
    "        n = int(gdata['order']+.5)\n",
    "        i = gdata['inversion']\n",
    "        if n>1 and abs(n-gdata['order'])<eps/rmax and (n,i) in colors:\n",
    "            res.append([list(-b),list(b),colors[n,i],.1])\n",
    "    return res, gdat\n",
    "        \n",
    "ase_mol = Atoms([Atom(mol['atoms'][i], tuple(mol['coord'][i])) for i in range(len(mol['atoms']))])\n",
    "mol_view = ngl.show_ase(ase_mol)\n",
    "arr = generate_arrows(G)\n",
    "for x in arr[0]:\n",
    "    mol_view.shape.add_arrow(*x)\n",
    "display(Markdown('*Axes colors denote their order: black - 2, \\\n",
    "                 green - 3, blue - 4, red - 5, yellow - 6, reflection - white, \\\n",
    "                 rotoinversion 4 - magenta, rotoinversion 6 - cyan*'))\n",
    "display(mol_view)\n",
    "for i in range(len(arr[1])):\n",
    "    x = arr[1][i]\n",
    "    if x['inversion']:\n",
    "        print(\"SymmOp#{:5d} order={:6.4f}  axis=({:8.5f},{:8.5f},{:8.5f}) inversion\".\n",
    "              format(i,x['order'],*x['axis']) )\n",
    "    else:\n",
    "        print(\"SymmOp#{:5d} order={:6.4f}  axis=({:8.5f},{:8.5f},{:8.5f})\".\n",
    "              format(i,x['order'],*x['axis']) )"
   ]
  },
  {
   "cell_type": "markdown",
   "id": "178ea236",
   "metadata": {},
   "source": [
    "## 7. Apply multiplication table based correction and symmetrize molecule"
   ]
  },
  {
   "cell_type": "code",
   "execution_count": null,
   "id": "eb072653",
   "metadata": {},
   "outputs": [],
   "source": [
    "def symmetrize_mol(mol,G,P):\n",
    "    mol1 = [np.array([0e0,0e0,0e0]) for m in mol['coord']]\n",
    "    for i in range(len(G)):\n",
    "        for j in range(len(mol['coord'])):\n",
    "            k = P[i][j]\n",
    "            mol1[k] = mol1[k] + G[i].dot(mol['coord'][j])\n",
    "    for i in range(len(mol1)):\n",
    "        mol1[i] /= len(G)\n",
    "    mol['coord'] = mol1\n",
    "    return mol\n",
    "\n",
    "def print_xyz(mol):\n",
    "    print(len(mol['atoms']))\n",
    "    print()\n",
    "    for i in range(len(mol['atoms'])):\n",
    "        print('{:2s} {:10.5f} {:10.5f} {:10.5f}'.format(mol['atoms'][i],*mol['coord'][i]))\n",
    "\n",
    "multab_group_correction(G,Multab,eps=1e-12)\n",
    "mol = symmetrize_mol(mol,G,P)\n",
    "display(Markdown('### Symmetrized molecule in xyz format:'))\n",
    "print_xyz(mol)    "
   ]
  },
  {
   "cell_type": "markdown",
   "id": "4206086b",
   "metadata": {},
   "source": [
    "## 8. Visualize symmetrized molecule"
   ]
  },
  {
   "cell_type": "code",
   "execution_count": null,
   "id": "f7f356e7",
   "metadata": {},
   "outputs": [],
   "source": [
    "ase_mol_sym = Atoms([Atom(mol['atoms'][i], tuple(mol['coord'][i])) for i in range(len(mol['atoms']))])\n",
    "mol_view_sym = ngl.show_ase(ase_mol_sym)\n",
    "for x in generate_arrows(G)[0]:\n",
    "    mol_view_sym.shape.add_arrow(*x)\n",
    "display(Markdown('Axes color denotes its order: black - 2, \\\n",
    "                 green - 3, blue - 4, red - 5, yellow - 6, reflection - white, \\\n",
    "                 rotoinversion 4 - magenta, rotoinversion 6 - cyan'))\n",
    "display(mol_view_sym)"
   ]
  },
  {
   "cell_type": "markdown",
   "id": "39447435",
   "metadata": {},
   "source": [
    "# Postscriptum"
   ]
  },
  {
   "cell_type": "markdown",
   "id": "7de3b06d",
   "metadata": {},
   "source": [
    "The <code>ReGroup</code> library whose functionality is demonstrated in this Jupyter presentaion is able to find and correct the symmetry group for any object provided that its symmetry can be expressed with unitary matrices. If this object is distorted from its symmetric configuration, it can be restored when symmetry group is known. \n",
    "\n",
    "Many other programs and libraries operating with molecular calculations data can automatically determine the molecular symmetry comparing it with a predefined list of known symmetry groups. Unlike them, this code does not rely on any predefined groups, instead, it builds symmetry group from scratch. For point groups in 3D space this might seem unneccessary, but for higher dimension or for non-point symmetries this approach can be highly useful.\n",
    "    \n",
    "The efficiency of present implementation can be greatly improved by re-coding a part of it in C++. But in present edition it is not done deliberately to make its use easier. For large groups great acceleration can be achieved by using group generators instead of entire group, but this can be done if the future if the need in such methods appears.    \n",
    "    \n",
    "There more examples of <code>ReGroup</code> applications. The directory 'examples' contains Python scripts:\n",
    "<ul>\n",
    "<li><code>create-polytope.py</code>  -  create and save points </li>\n",
    "<li><code>example-multidim.py</code> -  read points from file, apply symmetry finder, inclusive closure and multiplication table based group correction</li>\n",
    "<li><code>example-mol.py</code>      -  read a molecule from file, find approximate symmetry and make it exact, including possible rotation of the group</li>\n",
    "</ul>\n"
   ]
  },
  {
   "cell_type": "code",
   "execution_count": null,
   "id": "a025a1ad",
   "metadata": {},
   "outputs": [],
   "source": []
  }
 ],
 "metadata": {
  "kernelspec": {
   "display_name": "Python 3",
   "language": "python",
   "name": "python3"
  },
  "language_info": {
   "codemirror_mode": {
    "name": "ipython",
    "version": 3
   },
   "file_extension": ".py",
   "mimetype": "text/x-python",
   "name": "python",
   "nbconvert_exporter": "python",
   "pygments_lexer": "ipython3",
   "version": "3.6.9"
  }
 },
 "nbformat": 4,
 "nbformat_minor": 5
}
