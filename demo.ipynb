{
 "cells": [
  {
   "cell_type": "markdown",
   "id": "ccdc5ebb",
   "metadata": {},
   "source": [
    "# ReGroup Demo\n",
    "\n",
    "Welcome to ReGroup Demo notebook.\n",
    "\n",
    "# Part I. Finding & correcting the symmetry of a distorted polytope"
   ]
  },
  {
   "cell_type": "code",
   "execution_count": 11,
   "id": "6c72743d",
   "metadata": {},
   "outputs": [],
   "source": [
    "import ipywidgets as wdg\n",
    "import numpy as np\n",
    "from IPython.display import display, clear_output, Markdown\n",
    "import polytope as ptp\n",
    "from math import sqrt\n",
    "from symmfinder import symmetry_finder, inclusive_closure\n",
    "from grpcorr import multab_group_correction"
   ]
  },
  {
   "cell_type": "markdown",
   "id": "eeaa1541",
   "metadata": {},
   "source": [
    "## 1. Select polytope type:"
   ]
  },
  {
   "cell_type": "code",
   "execution_count": 12,
   "id": "d856a5c1",
   "metadata": {},
   "outputs": [
    {
     "data": {
      "application/vnd.jupyter.widget-view+json": {
       "model_id": "d3af4bd9afbe48c48a5db6c773c8de51",
       "version_major": 2,
       "version_minor": 0
      },
      "text/plain": [
       "interactive(children=(RadioButtons(description='Polytope', options=('hypercube', 'hypercube dual polytope', 's…"
      ]
     },
     "metadata": {},
     "output_type": "display_data"
    }
   ],
   "source": [
    "\n",
    "pchoice = wdg.RadioButtons( options=[\"hypercube\",\"hypercube dual polytope\",\"simplex\",\n",
    "                                    \"dodecahedron (3D)\",\"icositetrachoron (4D)\", \"hexacosichoron (4D)\"], \n",
    "                           description = \"Polytope\")\n",
    "dchoice = wdg.IntSlider(min=1, max=7, disabled=False, value = 1, description = 'Dimension')\n",
    "\n",
    "def dchoice_update(*args):\n",
    "    off = False\n",
    "    if pchoice.index == 3:\n",
    "        dchoice.value=3 \n",
    "        dchoice.disabled = True\n",
    "    elif pchoice.index in [4,5]:\n",
    "        dchoice.value=4\n",
    "        dchoice.disabled = True\n",
    "    else:\n",
    "        dchoice.disabled = False\n",
    "\n",
    "def print_ptope(x,y):\n",
    "    print(\"You selected: \",x,\", D = \", y)\n",
    "        \n",
    "pchoice.observe(dchoice_update,'index')\n",
    "        \n",
    "wdg.interactive(print_ptope,x=pchoice,y=dchoice)"
   ]
  },
  {
   "cell_type": "markdown",
   "id": "2144428f",
   "metadata": {},
   "source": [
    "## 2. Enter polytope radius:"
   ]
  },
  {
   "cell_type": "code",
   "execution_count": 13,
   "id": "00b4a9f9",
   "metadata": {},
   "outputs": [
    {
     "data": {
      "application/vnd.jupyter.widget-view+json": {
       "model_id": "54ad6341369e4b0f8420d0b2edd1bb0b",
       "version_major": 2,
       "version_minor": 0
      },
      "text/plain": [
       "BoundedFloatText(value=0.0, description='Radius', step=0.05)"
      ]
     },
     "metadata": {},
     "output_type": "display_data"
    }
   ],
   "source": [
    "rchoice = wdg.BoundedFloatText(description = \"Radius\", step = .05, min = 0e0)\n",
    "display(rchoice)"
   ]
  },
  {
   "cell_type": "markdown",
   "id": "9eb5cccd",
   "metadata": {},
   "source": [
    "## 3. Random distortion:"
   ]
  },
  {
   "cell_type": "code",
   "execution_count": 14,
   "id": "f8d8c133",
   "metadata": {},
   "outputs": [
    {
     "data": {
      "application/vnd.jupyter.widget-view+json": {
       "model_id": "0ba596c44185459b939c0bd3640faeef",
       "version_major": 2,
       "version_minor": 0
      },
      "text/plain": [
       "interactive(children=(Checkbox(value=True, description='Apply random distortion'), BoundedFloatText(value=0.0,…"
      ]
     },
     "metadata": {},
     "output_type": "display_data"
    }
   ],
   "source": [
    "distort = wdg.Checkbox(description = \"Apply random distortion\", value = True)\n",
    "epschoice = wdg.BoundedFloatText(description = \"Amplitude\", step = .05, min = 0e0)\n",
    "\n",
    "def epschoice_update(*args):\n",
    "    epschoice.disabled = not distort.value\n",
    "    if not distort.value:\n",
    "        epschoice.value = 0e0\n",
    "    \n",
    "distort.observe(epschoice_update,\"value\")\n",
    "\n",
    "def print_distort(d,eps):\n",
    "    print(\"Random distortion: \",d,\"; amplitude = \", eps)\n",
    "    \n",
    "wdg.interactive(print_distort, d=distort, eps = epschoice)"
   ]
  },
  {
   "cell_type": "markdown",
   "id": "1dd440fe",
   "metadata": {},
   "source": [
    "## 4. Generate the points:"
   ]
  },
  {
   "cell_type": "code",
   "execution_count": 32,
   "id": "b3aec319",
   "metadata": {},
   "outputs": [
    {
     "data": {
      "application/vnd.jupyter.widget-view+json": {
       "model_id": "45e61c043f7d47ebbac84abb34f2a4bd",
       "version_major": 2,
       "version_minor": 0
      },
      "text/plain": [
       "HBox(children=(Button(description='Create polytope', style=ButtonStyle()), Button(description='Clear points', …"
      ]
     },
     "metadata": {},
     "output_type": "display_data"
    },
    {
     "data": {
      "text/markdown": [
       "## 5. Use generated points or (alternatively) provide them manually"
      ],
      "text/plain": [
       "<IPython.core.display.Markdown object>"
      ]
     },
     "metadata": {},
     "output_type": "display_data"
    },
    {
     "data": {
      "application/vnd.jupyter.widget-view+json": {
       "model_id": "87a040b3ebdd4e38936dc3b62f08cc1a",
       "version_major": 2,
       "version_minor": 0
      },
      "text/plain": [
       "Textarea(value='', layout=Layout(width='100%'))"
      ]
     },
     "metadata": {},
     "output_type": "display_data"
    }
   ],
   "source": [
    "bcreate = wdg.Button(description = \"Create polytope\")\n",
    "bclear = wdg.Button(description = \"Clear points\")\n",
    "points_input = wdg.Textarea(layout=wdg.Layout(width='100%'))\n",
    "\n",
    "def create_polytope(*args):\n",
    "    i = pchoice.index\n",
    "    dim = dchoice.value\n",
    "    a = rchoice.value\n",
    "    eps = epschoice.value\n",
    "    if i==0:\n",
    "        points = ptp.hypercube(2*a/sqrt(dim),dim)\n",
    "    elif i==1:\n",
    "        points = ptp.hypercube_dual(a,dim)\n",
    "    elif i==2:\n",
    "        points = ptp.simplex(a,dim)\n",
    "    elif i==3:\n",
    "        points = ptp.dodecahedron(a)\n",
    "    elif i==4:\n",
    "        points = ptp.icositetrachoron(a)\n",
    "    elif i==5:\n",
    "        points = ptp.hexacosichoron(a)\n",
    "    else:\n",
    "        pass\n",
    "    if distort.value:\n",
    "        ptp.random_distortion(points,eps)\n",
    "    points_input.value = '\\n'.join([('{:10.6f}'*len(p)).format(*p) for p in points])\n",
    "    \n",
    "def clear_points(*args):\n",
    "    points_input.value = \"\"\n",
    "    \n",
    "bcreate.on_click(create_polytope)\n",
    "bclear.on_click(clear_points)\n",
    "display(wdg.HBox([bcreate,bclear]))\n",
    "display(Markdown(\"## 5. Use generated points or (alternatively) provide them manually\"))\n",
    "display(points_input)"
   ]
  },
  {
   "cell_type": "markdown",
   "id": "fbbaf2b7",
   "metadata": {},
   "source": [
    "## 6. Select epsilon (tolerance) value for approximate symmetry operations"
   ]
  },
  {
   "cell_type": "code",
   "execution_count": 16,
   "id": "a32e4251",
   "metadata": {},
   "outputs": [
    {
     "data": {
      "application/vnd.jupyter.widget-view+json": {
       "model_id": "2537a54ee5424e238726f5bab78eabe6",
       "version_major": 2,
       "version_minor": 0
      },
      "text/plain": [
       "BoundedFloatText(value=0.0, description='Tolerance', step=0.05)"
      ]
     },
     "metadata": {},
     "output_type": "display_data"
    }
   ],
   "source": [
    "eps1choice = wdg.BoundedFloatText(description = \"Tolerance\", step = .05, min = 0e0)\n",
    "display(eps1choice)"
   ]
  },
  {
   "cell_type": "markdown",
   "id": "f9ebacaf",
   "metadata": {},
   "source": [
    "## 7. Find approximate symmetry operations\n",
    "When points are created (step 5) and epsilon value is chosen, run the following steps manually:"
   ]
  },
  {
   "cell_type": "code",
   "execution_count": 19,
   "id": "d2c9871b",
   "metadata": {},
   "outputs": [
    {
     "name": "stdout",
     "output_type": "stream",
     "text": [
      "6 0.01\n",
      "Dot products matrix:    0.004 sec CPU time\n",
      "Point to point list:    0.002 sec CPU time\n",
      "Pair to pair list:      2.237 sec CPU time\n",
      "     46080 approximate symmetry operations found\n",
      "Approximate symmetries search:    325.649 sec CPU time\n"
     ]
    }
   ],
   "source": [
    "points = [np.array([float(s) for s in l.split()]) for l in points_input.value.split('\\n')]\n",
    "dim = dchoice.value\n",
    "eps = eps1choice.value\n",
    "print(dim,eps)\n",
    "P,G = symmetry_finder(points,dim,eps)"
   ]
  },
  {
   "cell_type": "markdown",
   "id": "55cd6571",
   "metadata": {},
   "source": [
    "## 8. Perform closure"
   ]
  },
  {
   "cell_type": "code",
   "execution_count": 8,
   "id": "5fd5d386",
   "metadata": {},
   "outputs": [
    {
     "name": "stdout",
     "output_type": "stream",
     "text": [
      "Inclusive closure & multiplication table build:\n",
      "Multiplication table: 100.00% complete,    0.185 sec CPU time\n",
      "       240 new elements found,    0.189 sec CPU time spent\n",
      "Multiplication table: 100.00% complete,    1.617 sec CPU time\n",
      "         0 new elements found,    1.617 sec CPU time spent\n",
      "Total group size now:    384\n"
     ]
    }
   ],
   "source": [
    "Multab = inclusive_closure(P,G)"
   ]
  },
  {
   "cell_type": "markdown",
   "id": "f40a2845",
   "metadata": {},
   "source": [
    "## 9. Multiplication table based group correction"
   ]
  },
  {
   "cell_type": "code",
   "execution_count": 9,
   "id": "f38b11d1",
   "metadata": {},
   "outputs": [
    {
     "name": "stdout",
     "output_type": "stream",
     "text": [
      "simple_grp_correct: iteration    0 error      4.836861301248423395\n",
      "simple_grp_correct: iteration    1 error      0.000604377624966258\n",
      "simple_grp_correct: iteration    2 error      0.000000000019039891\n",
      "Convergence is achieved!\n"
     ]
    }
   ],
   "source": [
    "multab_group_correction(G,Multab,eps=1e-10)"
   ]
  },
  {
   "cell_type": "code",
   "execution_count": 18,
   "id": "0dba245c",
   "metadata": {},
   "outputs": [
    {
     "data": {
      "text/plain": [
       "array([[ 1.00000000e+00, -9.78796924e-52,  7.52317027e-35,\n",
       "         7.52317027e-35, -8.67362108e-18],\n",
       "       [ 0.00000000e+00,  1.00000000e+00, -1.69985408e-17,\n",
       "         1.69985408e-17,  3.76158514e-35],\n",
       "       [ 0.00000000e+00,  1.69985408e-17,  1.00000000e+00,\n",
       "        -3.56682708e-16,  8.67362108e-18],\n",
       "       [ 8.67362108e-18,  1.12847554e-34, -8.67362108e-18,\n",
       "        -8.67362108e-18,  1.00000000e+00],\n",
       "       [ 0.00000000e+00, -1.69985408e-17,  7.78822944e-17,\n",
       "         1.00000000e+00,  8.67362108e-18]])"
      ]
     },
     "execution_count": 18,
     "metadata": {},
     "output_type": "execute_result"
    }
   ],
   "source": [
    "G[1]"
   ]
  },
  {
   "cell_type": "markdown",
   "id": "32930c5b",
   "metadata": {},
   "source": [
    "\n",
    "\n",
    "# Part II. Application to molecular symmetry "
   ]
  },
  {
   "cell_type": "code",
   "execution_count": 60,
   "id": "8dff6559",
   "metadata": {},
   "outputs": [],
   "source": [
    "import nglview as ngl\n",
    "from ase import Atom, Atoms\n",
    "import ipywidgets as wdg\n",
    "import numpy as np\n",
    "from IPython.display import display, clear_output, Markdown\n",
    "import polytope as ptp\n",
    "from symmfinder import symmetry_finder, inclusive_closure\n",
    "from grpcorr import multab_group_correction"
   ]
  },
  {
   "cell_type": "markdown",
   "id": "d76f36d3",
   "metadata": {},
   "source": [
    "## 1. Read molecule from xyz file\n",
    "The xyz file format is simple:\n",
    "\n",
    "*A1 x1 y1 z1*\n",
    "\n",
    "*A2 x2 y2 z2*\n",
    "\n",
    "............\n",
    "\n",
    "*An xn yn zn*\n",
    "\n",
    "First two lines might also contain the number of atoms and some comment, however, it is not necessary. The limited number of ready-to-go examples include \"examples/c20.xyz\", \"examples/ch4.xyz\", \"examples/c2h6.xyz\" and \"examples/sf6.xyz\"."
   ]
  },
  {
   "cell_type": "code",
   "execution_count": 54,
   "id": "ebe7e42b",
   "metadata": {},
   "outputs": [
    {
     "data": {
      "application/vnd.jupyter.widget-view+json": {
       "model_id": "bbe0c3cb83194c0abacef69783f0643a",
       "version_major": 2,
       "version_minor": 0
      },
      "text/plain": [
       "HBox(children=(Text(value='examples/c20.xyz', description='xyz file:'), Button(description='Open', style=Butto…"
      ]
     },
     "metadata": {},
     "output_type": "display_data"
    },
    {
     "data": {
      "text/markdown": [
       "##  2. Alternatively, copy & paste it here"
      ],
      "text/plain": [
       "<IPython.core.display.Markdown object>"
      ]
     },
     "metadata": {},
     "output_type": "display_data"
    },
    {
     "data": {
      "application/vnd.jupyter.widget-view+json": {
       "model_id": "56a3eaa8c7ce409d8c030233ef431d19",
       "version_major": 2,
       "version_minor": 0
      },
      "text/plain": [
       "Textarea(value='', layout=Layout(width='70%'))"
      ]
     },
     "metadata": {},
     "output_type": "display_data"
    }
   ],
   "source": [
    "fname = wdg.Text(description = 'xyz file:', value = 'examples/c20.xyz')\n",
    "bopen = wdg.Button(description = 'Open')\n",
    "mol_input = wdg.Textarea(layout=wdg.Layout(width='70%'))\n",
    "\n",
    "def open_xyz_file(*args):\n",
    "    f = open(fname.value)\n",
    "    mol_input.value = ''.join([l for l in f])\n",
    "    f.close()\n",
    "\n",
    "bopen.on_click(open_xyz_file)\n",
    "display(wdg.HBox([fname,bopen]),Markdown('##  2. Alternatively, copy & paste it here'),mol_input)"
   ]
  },
  {
   "cell_type": "markdown",
   "id": "8f77d9a3",
   "metadata": {},
   "source": [
    "## 3. Apply random distortion"
   ]
  },
  {
   "cell_type": "code",
   "execution_count": 56,
   "id": "f3631c5d",
   "metadata": {},
   "outputs": [
    {
     "data": {
      "application/vnd.jupyter.widget-view+json": {
       "model_id": "d85d9ed0cc4048608a76220c538c44b5",
       "version_major": 2,
       "version_minor": 0
      },
      "text/plain": [
       "interactive(children=(Checkbox(value=True, description='Apply random distortion'), BoundedFloatText(value=0.0,…"
      ]
     },
     "metadata": {},
     "output_type": "display_data"
    }
   ],
   "source": [
    "distort = wdg.Checkbox(description = \"Apply random distortion\", value = True)\n",
    "epschoice = wdg.BoundedFloatText(description = \"Amplitude\", step = .05, min = 0e0)\n",
    "\n",
    "def epschoice_update(*args):\n",
    "    epschoice.disabled = not distort.value\n",
    "    if not distort.value:\n",
    "        epschoice.value = 0e0\n",
    "    \n",
    "distort.observe(epschoice_update,\"value\")\n",
    "\n",
    "def print_distort(d,eps):\n",
    "    print(\"Random distortion: \",d,\"; amplitude = \", eps)\n",
    "    \n",
    "wdg.interactive(print_distort, d=distort, eps = epschoice)"
   ]
  },
  {
   "cell_type": "markdown",
   "id": "f52745c1",
   "metadata": {},
   "source": [
    "## 4. Read & visualize initial molecule\n",
    "Manually run the following code"
   ]
  },
  {
   "cell_type": "code",
   "execution_count": 70,
   "id": "c4fbbf63",
   "metadata": {},
   "outputs": [
    {
     "data": {
      "application/vnd.jupyter.widget-view+json": {
       "model_id": "df577ccf86c24b828437e6cd1ff6158f",
       "version_major": 2,
       "version_minor": 0
      },
      "text/plain": [
       "NGLWidget()"
      ]
     },
     "metadata": {},
     "output_type": "display_data"
    }
   ],
   "source": [
    "lines=[line.split() for line in mol_input.value.split('\\n')]\n",
    "mol = {'atoms':[],'coord':[]}\n",
    "for l in lines:\n",
    "    if len(l)==4:\n",
    "        mol['atoms'].append(l[0])\n",
    "        mol['coord'].append(np.array([float(l[i]) for i in [1,2,3]]))\n",
    "        \n",
    "if distort.value:\n",
    "    ptp.random_distortion(mol['coord'],epschoice.value)\n",
    "\n",
    "ase_mol = Atoms([Atom(mol['atoms'][i], tuple(mol['coord'][i])) for i in range(len(mol['atoms']))])\n",
    "mol_view = ngl.show_ase(ase_mol)\n",
    "display(mol_view)"
   ]
  },
  {
   "cell_type": "markdown",
   "id": "430a05f5",
   "metadata": {},
   "source": [
    "## 5. Select epsilon (tolerance) value for approximate symmetry operations"
   ]
  },
  {
   "cell_type": "code",
   "execution_count": 63,
   "id": "daa299c7",
   "metadata": {},
   "outputs": [
    {
     "data": {
      "application/vnd.jupyter.widget-view+json": {
       "model_id": "561852e420c546b79fd15178b01eeb2e",
       "version_major": 2,
       "version_minor": 0
      },
      "text/plain": [
       "BoundedFloatText(value=0.0, description='Tolerance', step=0.05)"
      ]
     },
     "metadata": {},
     "output_type": "display_data"
    }
   ],
   "source": [
    "eps1choice = wdg.BoundedFloatText(description = \"Tolerance\", step = .05, min = 0e0)\n",
    "display(eps1choice)"
   ]
  },
  {
   "cell_type": "markdown",
   "id": "0d8321db",
   "metadata": {},
   "source": [
    "## 6. Find approximate symmetry group"
   ]
  },
  {
   "cell_type": "code",
   "execution_count": 72,
   "id": "135ec8d7",
   "metadata": {},
   "outputs": [
    {
     "name": "stdout",
     "output_type": "stream",
     "text": [
      "Dot products matrix:    0.001 sec CPU time\n",
      "Point to point list:    0.000 sec CPU time\n",
      "Pair to pair list:      0.000 sec CPU time\n",
      "         5 approximate symmetry operations found\n",
      "Approximate symmetries search:      0.020 sec CPU time\n",
      "Inclusive closure & multiplication table build:\n",
      "Multiplication table: 100.00% complete,    0.001 sec CPU time\n",
      "         6 new elements found,    0.002 sec CPU time spent\n",
      "Multiplication table: 100.00% complete,    0.001 sec CPU time\n",
      "         1 new elements found,    0.001 sec CPU time spent\n",
      "Multiplication table: 100.00% complete,    0.000 sec CPU time\n",
      "         0 new elements found,    0.001 sec CPU time spent\n",
      "Total group size now:     12\n"
     ]
    }
   ],
   "source": [
    "eps = eps1choice.value\n",
    "P,G = symmetry_finder(mol['coord'],3,eps)\n",
    "Multab = inclusive_closure(P,G)"
   ]
  },
  {
   "cell_type": "markdown",
   "id": "178ea236",
   "metadata": {},
   "source": [
    "## 7. Apply multiplication table based correction and symmetrize molecule"
   ]
  },
  {
   "cell_type": "code",
   "execution_count": 73,
   "id": "eb072653",
   "metadata": {},
   "outputs": [
    {
     "name": "stdout",
     "output_type": "stream",
     "text": [
      "simple_grp_correct: iteration    0 error      0.868622102083505654\n",
      "simple_grp_correct: iteration    1 error      0.001607373970717430\n",
      "simple_grp_correct: iteration    2 error      0.000000010959657232\n",
      "simple_grp_correct: iteration    3 error      0.000000000000005543\n",
      "Convergence is achieved!\n"
     ]
    },
    {
     "data": {
      "text/markdown": [
       "### Symmetrized molecule in xyz format:"
      ],
      "text/plain": [
       "<IPython.core.display.Markdown object>"
      ]
     },
     "metadata": {},
     "output_type": "display_data"
    },
    {
     "name": "stdout",
     "output_type": "stream",
     "text": [
      "8\n",
      "\n",
      "C     0.02215    0.02273    0.66399\n",
      "C    -0.02215   -0.02273   -0.66399\n",
      "H     0.53746    0.76618    1.13106\n",
      "H    -0.83934    0.10941    1.19947\n",
      "H     0.41922   -0.75517    1.18708\n",
      "H    -0.41922    0.75517   -1.18708\n",
      "H     0.83934   -0.10941   -1.19947\n",
      "H    -0.53746   -0.76618   -1.13106\n"
     ]
    }
   ],
   "source": [
    "def symmetrize_mol(mol,G,P):\n",
    "    mol1 = [np.array([0e0,0e0,0e0]) for m in mol['coord']]\n",
    "    for i in range(len(G)):\n",
    "        for j in range(len(mol['coord'])):\n",
    "            k = P[i][j]\n",
    "            mol1[k] = mol1[k] + G[i].dot(mol['coord'][j])\n",
    "    for i in range(len(mol1)):\n",
    "        mol1[i] /= len(G)\n",
    "    mol['coord'] = mol1\n",
    "    return mol\n",
    "\n",
    "def print_xyz(mol):\n",
    "    print(len(mol['atoms']))\n",
    "    print()\n",
    "    for i in range(len(mol['atoms'])):\n",
    "        print('{:2s} {:10.5f} {:10.5f} {:10.5f}'.format(mol['atoms'][i],*mol['coord'][i]))\n",
    "\n",
    "multab_group_correction(G,Multab,eps=1e-12)\n",
    "mol = symmetrize_mol(mol,G,P)\n",
    "display(Markdown('### Symmetrized molecule in xyz format:'))\n",
    "print_xyz(mol)    "
   ]
  },
  {
   "cell_type": "markdown",
   "id": "4206086b",
   "metadata": {},
   "source": [
    "## 8. Visualize symmetrized molecule"
   ]
  },
  {
   "cell_type": "code",
   "execution_count": 74,
   "id": "f7f356e7",
   "metadata": {},
   "outputs": [
    {
     "data": {
      "application/vnd.jupyter.widget-view+json": {
       "model_id": "48bd7e3805ff46b7a76e44f7deff8952",
       "version_major": 2,
       "version_minor": 0
      },
      "text/plain": [
       "NGLWidget()"
      ]
     },
     "metadata": {},
     "output_type": "display_data"
    }
   ],
   "source": [
    "ase_mol_sym = Atoms([Atom(mol['atoms'][i], tuple(mol['coord'][i])) for i in range(len(mol['atoms']))])\n",
    "mol_view_sym = ngl.show_ase(ase_mol_sym)\n",
    "display(mol_view_sym)"
   ]
  },
  {
   "cell_type": "code",
   "execution_count": null,
   "id": "77be2925",
   "metadata": {},
   "outputs": [],
   "source": []
  }
 ],
 "metadata": {
  "kernelspec": {
   "display_name": "Python 3",
   "language": "python",
   "name": "python3"
  },
  "language_info": {
   "codemirror_mode": {
    "name": "ipython",
    "version": 3
   },
   "file_extension": ".py",
   "mimetype": "text/x-python",
   "name": "python",
   "nbconvert_exporter": "python",
   "pygments_lexer": "ipython3",
   "version": "3.6.9"
  }
 },
 "nbformat": 4,
 "nbformat_minor": 5
}
